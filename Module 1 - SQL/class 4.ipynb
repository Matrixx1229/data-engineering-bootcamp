{
 "cells": [
  {
   "cell_type": "markdown",
   "metadata": {
    "application/vnd.databricks.v1+cell": {
     "cellMetadata": {},
     "inputWidgets": {},
     "nuid": "7273e24b-473c-4683-b29b-9d4d1576b944",
     "showTitle": false,
     "tableResultSettingsMap": {},
     "title": ""
    }
   },
   "source": [
    "class 4 of SQL\n"
   ]
  },
  {
   "cell_type": "code",
   "execution_count": 0,
   "metadata": {
    "application/vnd.databricks.v1+cell": {
     "cellMetadata": {
      "byteLimit": 2048000,
      "rowLimit": 10000
     },
     "inputWidgets": {},
     "nuid": "9a9f4c88-acbc-4860-b573-9815892f3c7b",
     "showTitle": false,
     "tableResultSettingsMap": {},
     "title": ""
    }
   },
   "outputs": [],
   "source": [
    "SELECT * FROM orders;"
   ]
  },
  {
   "cell_type": "code",
   "execution_count": 0,
   "metadata": {
    "application/vnd.databricks.v1+cell": {
     "cellMetadata": {
      "byteLimit": 2048000,
      "rowLimit": 10000
     },
     "inputWidgets": {},
     "nuid": "ebe81ab2-73de-467b-b3a3-bcfd052aa565",
     "showTitle": false,
     "tableResultSettingsMap": {},
     "title": ""
    }
   },
   "outputs": [],
   "source": [
    "SELECT AVG(total_amount) FROM orders"
   ]
  },
  {
   "cell_type": "code",
   "execution_count": 0,
   "metadata": {
    "application/vnd.databricks.v1+cell": {
     "cellMetadata": {
      "byteLimit": 2048000,
      "rowLimit": 10000
     },
     "inputWidgets": {},
     "nuid": "d06df6ba-24fa-4924-a8fb-4689903a971e",
     "showTitle": false,
     "tableResultSettingsMap": {},
     "title": ""
    }
   },
   "outputs": [],
   "source": [
    "-- Find customers who placed orders above the average order amount.\n",
    "\n",
    "SELECT distinct c.first_name, c.last_name, o.total_amount\n",
    "FROM customers c \n",
    "JOIN orders o ON c.customer_id = o.customer_id\n",
    "WHERE o.total_amount >\n",
    "(\n",
    "SELECT AVG(total_amount) from orders\n",
    ")\n",
    "\n",
    "ORDER BY total_amount DESC"
   ]
  },
  {
   "cell_type": "code",
   "execution_count": 0,
   "metadata": {
    "application/vnd.databricks.v1+cell": {
     "cellMetadata": {
      "byteLimit": 2048000,
      "rowLimit": 10000
     },
     "inputWidgets": {},
     "nuid": "066995e9-75ae-472b-82ee-387d63278b4a",
     "showTitle": false,
     "tableResultSettingsMap": {},
     "title": ""
    }
   },
   "outputs": [],
   "source": [
    "-- List all products that have been sold more than 5 times in total.\n",
    "\n",
    "SELECT \n",
    "  od.product_name AS PRODUCT_NAME, \n",
    "  SUM(od.quantity) AS TOTAL_SOLD \n",
    "FROM order_details AS od \n",
    "GROUP BY od.product_name \n",
    "HAVING SUM(od.quantity) > (SELECT 2)\n",
    "-- ORDER BY PRODUCT_NAME/TOTAL_SOLD ASC"
   ]
  },
  {
   "cell_type": "code",
   "execution_count": 0,
   "metadata": {
    "application/vnd.databricks.v1+cell": {
     "cellMetadata": {
      "byteLimit": 2048000,
      "rowLimit": 10000
     },
     "inputWidgets": {},
     "nuid": "399bd56f-28bc-4635-985d-da9dc97844cf",
     "showTitle": false,
     "tableResultSettingsMap": {},
     "title": ""
    }
   },
   "outputs": [],
   "source": [
    "--  List customers and their total quantity of products ordered.\n",
    "\n",
    "WITH customer_orders AS (\n",
    "  SELECT c.customer_id, c.first_name, SUM(od.quantity) AS total_quantity\n",
    "  FROM customers AS c\n",
    "  JOIN orders AS o ON c.customer_id = o.customer_id\n",
    "  JOIN order_details AS od ON o.order_id = od.order_id\n",
    "  GROUP BY c.customer_id, c.first_name\n",
    ")\n",
    "SELECT * FROM customer_orders WHERE total_quantity>=3\n"
   ]
  },
  {
   "cell_type": "code",
   "execution_count": 0,
   "metadata": {
    "application/vnd.databricks.v1+cell": {
     "cellMetadata": {
      "byteLimit": 2048000,
      "rowLimit": 10000
     },
     "inputWidgets": {},
     "nuid": "8f55bf93-7904-4875-b487-5549793c47d6",
     "showTitle": false,
     "tableResultSettingsMap": {},
     "title": ""
    }
   },
   "outputs": [],
   "source": [
    "--Find products with their total sales revenue (price * quantity).\n",
    "\n",
    "WITH product_sales AS (\n",
    "  SELECT od.product_name, SUM(od.price_each * od.quantity) AS total_revenue\n",
    "  FROM order_details AS od\n",
    "  GROUP BY 1\n",
    ")\n",
    "SELECT * FROM product_sales WHERE total_revenue > 10000"
   ]
  },
  {
   "cell_type": "markdown",
   "metadata": {
    "application/vnd.databricks.v1+cell": {
     "cellMetadata": {},
     "inputWidgets": {},
     "nuid": "2e443d73-55b6-4a75-9b7a-2097864a7dbf",
     "showTitle": false,
     "tableResultSettingsMap": {},
     "title": ""
    }
   },
   "source": [
    "CASE Statements (SQL IF/ELSE)"
   ]
  },
  {
   "cell_type": "code",
   "execution_count": 0,
   "metadata": {
    "application/vnd.databricks.v1+cell": {
     "cellMetadata": {
      "byteLimit": 2048000,
      "rowLimit": 10000
     },
     "inputWidgets": {},
     "nuid": "f95e2e88-5ecf-4fdd-ae83-4d8d5683fa82",
     "showTitle": false,
     "tableResultSettingsMap": {},
     "title": ""
    }
   },
   "outputs": [],
   "source": [
    "--Categorize each order as 'Small', 'Medium', 'Large'.\n",
    "\n",
    "-- SELECT o.order_id, o.total_amount, \n",
    "--   CASE \n",
    "--     WHEN o.total_amount < 1000 THEN 'Small'\n",
    "--     WHEN o.total_amount BETWEEN 1000 and 5000 THEN 'Medium'\n",
    "--     ELSE 'Large'\n",
    "--   END AS ORDER_SIZE \n",
    "\n",
    "-- FROM orders o where order_size = 'Large'\n",
    "\n",
    "-- Categorize each order as 'Small', 'Medium', 'Large' and filter for 'Large' orders.\n",
    "\n",
    "SELECT * \n",
    "FROM (\n",
    "  SELECT o.order_id, o.total_amount, \n",
    "    CASE \n",
    "      WHEN o.total_amount < 1000 THEN 'Small'\n",
    "      WHEN o.total_amount BETWEEN 1000 AND 5000 THEN 'Medium'\n",
    "      ELSE 'Large'\n",
    "    END AS order_size \n",
    "  FROM orders o\n",
    ") subquery\n",
    "WHERE order_size = 'Medium'"
   ]
  },
  {
   "cell_type": "code",
   "execution_count": 0,
   "metadata": {
    "application/vnd.databricks.v1+cell": {
     "cellMetadata": {
      "byteLimit": 2048000,
      "rowLimit": 10000
     },
     "inputWidgets": {},
     "nuid": "beceecc4-937e-43e5-9605-863d95341e90",
     "showTitle": false,
     "tableResultSettingsMap": {},
     "title": ""
    }
   },
   "outputs": [],
   "source": [
    "-- Categorize each order as 'Small', 'Medium', 'Large'.\n",
    "\n",
    "WITH categorized_orders AS (\n",
    "    SELECT o.order_id, o.total_amount, \n",
    "          CASE\n",
    "              WHEN o.total_amount < 1000 THEN 'SMALL'\n",
    "              WHEN o.total_amount BETWEEN 1000 AND 1500 THEN 'MEDIUM'\n",
    "              ELSE 'LARGE'\n",
    "          END AS ORDER_SIZE \n",
    "    FROM orders o\n",
    ")\n",
    "SELECT * \n",
    "FROM categorized_orders \n",
    "WHERE ORDER_SIZE = 'LARGE'  "
   ]
  },
  {
   "cell_type": "code",
   "execution_count": 0,
   "metadata": {
    "application/vnd.databricks.v1+cell": {
     "cellMetadata": {
      "byteLimit": 2048000,
      "rowLimit": 10000
     },
     "inputWidgets": {},
     "nuid": "05b30f82-b36a-4c22-9016-a8ff46cdebd2",
     "showTitle": false,
     "tableResultSettingsMap": {},
     "title": ""
    }
   },
   "outputs": [],
   "source": [
    "--Label customers as 'New' or 'Returning' based on order count.\n",
    "\n",
    "SELECT c.first_name, COUNT(o.order_id) AS total_orders,\n",
    "  CASE \n",
    "    WHEN COUNT(o.order_id) = 1 THEN 'New'\n",
    "    WHEN COUNT(o.order_id) > 1 THEN 'Returning'\n",
    "  ELSE 'No Orders'\n",
    "  END AS customer_type \n",
    "\n",
    "\n",
    "FROM customers c\n",
    "LEFT JOIN orders o ON c.customer_id = o.customer_id\n",
    "GROUP BY c.customer_id, c.first_name ;"
   ]
  },
  {
   "cell_type": "code",
   "execution_count": 0,
   "metadata": {
    "application/vnd.databricks.v1+cell": {
     "cellMetadata": {
      "byteLimit": 2048000,
      "rowLimit": 10000
     },
     "inputWidgets": {},
     "nuid": "59136bca-0525-47eb-b8f1-c4693f3abb54",
     "showTitle": false,
     "tableResultSettingsMap": {},
     "title": ""
    }
   },
   "outputs": [],
   "source": [
    "SELECT UPPER(c.first_name) AS FIRST_NAME_UPPERCASE from customers c "
   ]
  },
  {
   "cell_type": "code",
   "execution_count": 0,
   "metadata": {
    "application/vnd.databricks.v1+cell": {
     "cellMetadata": {
      "byteLimit": 2048000,
      "rowLimit": 10000
     },
     "inputWidgets": {},
     "nuid": "87e72d78-7abb-4fbf-b47f-9ea024c070e9",
     "showTitle": false,
     "tableResultSettingsMap": {},
     "title": ""
    }
   },
   "outputs": [],
   "source": [
    "SELECT LOWER(c.first_name) AS FIRST_NAME_UPPERCASE from customers c"
   ]
  },
  {
   "cell_type": "code",
   "execution_count": 0,
   "metadata": {
    "application/vnd.databricks.v1+cell": {
     "cellMetadata": {
      "byteLimit": 2048000,
      "rowLimit": 10000
     },
     "inputWidgets": {},
     "nuid": "b6d957fe-0b30-4674-a597-07233a75e81c",
     "showTitle": false,
     "tableResultSettingsMap": {},
     "title": ""
    }
   },
   "outputs": [],
   "source": [
    "SELECT UPPER(CONCAT(c.first_name,\" \",c.last_name)) AS FULL_NAME from customers c "
   ]
  },
  {
   "cell_type": "code",
   "execution_count": 0,
   "metadata": {
    "application/vnd.databricks.v1+cell": {
     "cellMetadata": {
      "byteLimit": 2048000,
      "rowLimit": 10000
     },
     "inputWidgets": {},
     "nuid": "0edcba6f-5ee1-4ab1-a464-8d7631d1bfba",
     "showTitle": false,
     "tableResultSettingsMap": {},
     "title": ""
    }
   },
   "outputs": [],
   "source": [
    "-- List each customer's name + their total spend + spending category.\n",
    "\n",
    "WITH  customer_spend AS (\n",
    "  SELECT c.customer_id, CONCAT(c.first_name, ' ', c.last_name) AS full_name,\n",
    "    SUM(od.quantity * od.price_each) AS total_spent\n",
    "    FROM customers c\n",
    "    JOIN orders o ON c.customer_id = o.customer_id\n",
    "    JOIN order_details od ON o.order_id = od.order_id\n",
    "    GROUP BY c.customer_id, c.first_name, c.last_name\n",
    ")\n",
    "\n",
    "SELECT full_name, total_spent,\n",
    "  CASE \n",
    "    WHEN total_spent < 1000 THEN 'Bronze'\n",
    "    WHEN total_spent BETWEEN 1000 AND 2000 THEN 'Silver'\n",
    "    ELSE 'Gold'\n",
    "  END AS customer_tier\n",
    "FROM customer_spend;"
   ]
  },
  {
   "cell_type": "code",
   "execution_count": 0,
   "metadata": {
    "application/vnd.databricks.v1+cell": {
     "cellMetadata": {
      "byteLimit": 2048000,
      "rowLimit": 10000
     },
     "inputWidgets": {},
     "nuid": "d73201de-6aac-4323-90fc-855cef28fde4",
     "showTitle": false,
     "tableResultSettingsMap": {},
     "title": ""
    }
   },
   "outputs": [],
   "source": [
    "SELECT \n",
    "  CONCAT(c.first_name, ' ', c.last_name) AS customer_name,\n",
    "  od.product_name AS product,\n",
    "  c.city as regions\n",
    "FROM customers c\n",
    "JOIN orders o ON c.customer_id = o.customer_id\n",
    "JOIN order_details od ON o.order_id = od.order_id"
   ]
  },
  {
   "cell_type": "code",
   "execution_count": 0,
   "metadata": {
    "application/vnd.databricks.v1+cell": {
     "cellMetadata": {
      "byteLimit": 2048000,
      "rowLimit": 10000
     },
     "inputWidgets": {},
     "nuid": "86b6e82d-c012-484f-9341-5438f0166ed6",
     "showTitle": false,
     "tableResultSettingsMap": {},
     "title": ""
    }
   },
   "outputs": [],
   "source": [
    "\n",
    "SELECT \n",
    "  c.customer_id,\n",
    "  CONCAT(c.first_name, ' ', c.last_name) AS customer_name,\n",
    "  COUNT(DISTINCT od.product_name) AS products_purchased\n",
    "FROM customers c\n",
    "JOIN orders o ON c.customer_id = o.customer_id\n",
    "JOIN order_details od ON o.order_id = od.order_id\n",
    "GROUP BY c.customer_id, c.first_name, c.last_name\n"
   ]
  },
  {
   "cell_type": "code",
   "execution_count": 0,
   "metadata": {
    "application/vnd.databricks.v1+cell": {
     "cellMetadata": {
      "byteLimit": 2048000,
      "rowLimit": 10000
     },
     "inputWidgets": {},
     "nuid": "d15c1180-0043-4e3e-9640-1a625ff44063",
     "showTitle": false,
     "tableResultSettingsMap": {},
     "title": ""
    }
   },
   "outputs": [],
   "source": [
    "select * from customers"
   ]
  },
  {
   "cell_type": "code",
   "execution_count": 0,
   "metadata": {
    "application/vnd.databricks.v1+cell": {
     "cellMetadata": {},
     "inputWidgets": {},
     "nuid": "047924bf-8717-40a1-9619-da8e8f44c39a",
     "showTitle": false,
     "tableResultSettingsMap": {},
     "title": ""
    }
   },
   "outputs": [],
   "source": [
    "-- SELECT \n",
    "--   c.customer_id,\n",
    "--   CONCAT(c.first_name, ' ', c.last_name) AS customer_name,\n",
    "--   SUM(od.quantity * od.price_each) AS total_spent\n",
    "-- FROM customers c\n",
    "-- JOIN orders o ON c.customer_id = o.customer_id\n",
    "-- JOIN order_details od ON o.order_id = od.order_id\n",
    "-- WHERE c.gender = 'Female'\n",
    "-- GROUP BY c.customer_id, c.first_name, c.last_name\n",
    "-- HAVING SUM(od.quantity * od.price_each) > 1000"
   ]
  },
  {
   "cell_type": "code",
   "execution_count": 0,
   "metadata": {
    "application/vnd.databricks.v1+cell": {
     "cellMetadata": {
      "byteLimit": 2048000,
      "rowLimit": 10000
     },
     "inputWidgets": {},
     "nuid": "66706b43-054f-4d52-9597-baa73bb65eba",
     "showTitle": false,
     "tableResultSettingsMap": {},
     "title": ""
    }
   },
   "outputs": [],
   "source": [
    "SELECT \n",
    "  c.city,\n",
    "  SUM(od.quantity * od.price_each) AS total_purchased_amount\n",
    "FROM customers c\n",
    "JOIN orders o ON c.customer_id = o.customer_id\n",
    "JOIN order_details od ON o.order_id = od.order_id\n",
    "GROUP BY c.city\n",
    "ORDER BY total_purchased_amount DESC\n",
    "LIMIT 3"
   ]
  },
  {
   "cell_type": "code",
   "execution_count": 0,
   "metadata": {
    "application/vnd.databricks.v1+cell": {
     "cellMetadata": {},
     "inputWidgets": {},
     "nuid": "934264fa-a4ae-42ea-a19c-e131106da7df",
     "showTitle": false,
     "tableResultSettingsMap": {},
     "title": ""
    }
   },
   "outputs": [],
   "source": []
  }
 ],
 "metadata": {
  "application/vnd.databricks.v1+notebook": {
   "computePreferences": {
    "hardware": {
     "accelerator": null,
     "gpuPoolId": null,
     "memory": null
    }
   },
   "dashboards": [],
   "environmentMetadata": {
    "base_environment": "",
    "environment_version": "2"
   },
   "inputWidgetPreferences": null,
   "language": "sql",
   "notebookMetadata": {
    "pythonIndentUnit": 4
   },
   "notebookName": "class 4",
   "widgets": {}
  },
  "language_info": {
   "name": "sql"
  }
 },
 "nbformat": 4,
 "nbformat_minor": 0
}
